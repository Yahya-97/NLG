{
 "cells": [
  {
   "cell_type": "code",
   "execution_count": 1,
   "id": "surface-dryer",
   "metadata": {},
   "outputs": [],
   "source": [
    "import tensorflow as tf\n",
    "from tensorflow.keras.preprocessing.text import Tokenizer\n",
    "from tensorflow.keras.preprocessing.sequence import pad_sequences\n",
    "from tensorflow.keras.layers import Embedding,LSTM,Dense,Dropout,Bidirectional\n",
    "from tensorflow.keras import Sequential\n",
    "from tensorflow.keras.optimizers import Adam\n",
    "from tensorflow.keras import regularizers\n",
    "import numpy as np"
   ]
  },
  {
   "cell_type": "code",
   "execution_count": 2,
   "id": "fantastic-horse",
   "metadata": {},
   "outputs": [
    {
     "data": {
      "text/plain": [
       "1440"
      ]
     },
     "execution_count": 2,
     "metadata": {},
     "output_type": "execute_result"
    }
   ],
   "source": [
    "tokenizer = Tokenizer()\n",
    "data = open('../story.txt').read()\n",
    "\n",
    "corpus = data.split('\\n')\n",
    "tokenizer.fit_on_texts(corpus)\n",
    "\n",
    "total_words = len(tokenizer.word_index)+1 \n",
    "total_words"
   ]
  },
  {
   "cell_type": "code",
   "execution_count": 3,
   "id": "prompt-psychiatry",
   "metadata": {},
   "outputs": [],
   "source": [
    "input_sequences = []\n",
    "for line in corpus:\n",
    "\ttoken_list = tokenizer.texts_to_sequences([line])[0]\n",
    "\tfor i in range(1, len(token_list)):\n",
    "\t\tn_gram_sequence = token_list[:i+1]\n",
    "\t\tinput_sequences.append(n_gram_sequence)\n",
    "\n",
    "\n",
    "max_sequence_len = max([len(x) for x in input_sequences])\n",
    "input_sequences = np.array(pad_sequences(input_sequences, maxlen=max_sequence_len, padding='pre'))\n",
    "\n",
    "predictors, label = input_sequences[:,:-1],input_sequences[:,-1]\n",
    "\n",
    "label = tf.keras.utils.to_categorical(label, num_classes=total_words)\n"
   ]
  },
  {
   "cell_type": "code",
   "execution_count": 4,
   "id": "close-corps",
   "metadata": {},
   "outputs": [
    {
     "name": "stdout",
     "output_type": "stream",
     "text": [
      "Model: \"sequential\"\n",
      "_________________________________________________________________\n",
      "Layer (type)                 Output Shape              Param #   \n",
      "=================================================================\n",
      "embedding (Embedding)        (None, 142, 100)          144000    \n",
      "_________________________________________________________________\n",
      "bidirectional (Bidirectional (None, 142, 600)          962400    \n",
      "_________________________________________________________________\n",
      "dropout (Dropout)            (None, 142, 600)          0         \n",
      "_________________________________________________________________\n",
      "lstm_1 (LSTM)                (None, 200)               640800    \n",
      "_________________________________________________________________\n",
      "dense (Dense)                (None, 720)               144720    \n",
      "_________________________________________________________________\n",
      "dense_1 (Dense)              (None, 1440)              1038240   \n",
      "=================================================================\n",
      "Total params: 2,930,160\n",
      "Trainable params: 2,930,160\n",
      "Non-trainable params: 0\n",
      "_________________________________________________________________\n",
      "None\n"
     ]
    }
   ],
   "source": [
    "model = Sequential()\n",
    "model.add(Embedding(total_words, 100, input_length=max_sequence_len-1))\n",
    "model.add(Bidirectional(LSTM(300, return_sequences = True)))\n",
    "model.add(Dropout(0.2))\n",
    "model.add(LSTM(200))\n",
    "model.add(Dense(total_words/2, activation='relu', kernel_regularizer=regularizers.l2(0.01)))\n",
    "model.add(Dense(total_words, activation='softmax'))\n",
    "model.compile(loss='categorical_crossentropy', optimizer='adam', metrics=['accuracy'])\n",
    "print(model.summary())"
   ]
  },
  {
   "cell_type": "code",
   "execution_count": 5,
   "id": "connected-sacrifice",
   "metadata": {},
   "outputs": [
    {
     "name": "stdout",
     "output_type": "stream",
     "text": [
      "Epoch 1/100\n",
      "78/78 [==============================] - 95s 1s/step - loss: 8.9838 - accuracy: 0.0182\n",
      "Epoch 2/100\n",
      "78/78 [==============================] - 89s 1s/step - loss: 7.0367 - accuracy: 0.0324\n",
      "Epoch 3/100\n",
      "78/78 [==============================] - 88s 1s/step - loss: 6.7500 - accuracy: 0.0322\n",
      "Epoch 4/100\n",
      "78/78 [==============================] - 90s 1s/step - loss: 6.5876 - accuracy: 0.0236\n",
      "Epoch 5/100\n",
      "78/78 [==============================] - 89s 1s/step - loss: 6.4449 - accuracy: 0.0287\n",
      "Epoch 6/100\n",
      "78/78 [==============================] - 89s 1s/step - loss: 6.4309 - accuracy: 0.0326\n",
      "Epoch 7/100\n",
      "78/78 [==============================] - 88s 1s/step - loss: 6.2927 - accuracy: 0.0290\n",
      "Epoch 8/100\n",
      "78/78 [==============================] - 90s 1s/step - loss: 6.0984 - accuracy: 0.0357\n",
      "Epoch 9/100\n",
      "78/78 [==============================] - 89s 1s/step - loss: 6.0995 - accuracy: 0.0278\n",
      "Epoch 10/100\n",
      "78/78 [==============================] - 89s 1s/step - loss: 6.0496 - accuracy: 0.0316\n",
      "Epoch 11/100\n",
      "78/78 [==============================] - 89s 1s/step - loss: 5.9194 - accuracy: 0.0233\n",
      "Epoch 12/100\n",
      "78/78 [==============================] - 98s 1s/step - loss: 5.8056 - accuracy: 0.0320\n",
      "Epoch 13/100\n",
      "78/78 [==============================] - 96s 1s/step - loss: 5.6760 - accuracy: 0.0266\n",
      "Epoch 14/100\n",
      "78/78 [==============================] - 91s 1s/step - loss: 5.6307 - accuracy: 0.0288\n",
      "Epoch 15/100\n",
      "78/78 [==============================] - 90s 1s/step - loss: 5.5167 - accuracy: 0.0356\n",
      "Epoch 16/100\n",
      "78/78 [==============================] - 91s 1s/step - loss: 5.4199 - accuracy: 0.0367\n",
      "Epoch 17/100\n",
      "78/78 [==============================] - 91s 1s/step - loss: 5.3392 - accuracy: 0.0446\n",
      "Epoch 18/100\n",
      "78/78 [==============================] - 91s 1s/step - loss: 5.3791 - accuracy: 0.0375\n",
      "Epoch 19/100\n",
      "78/78 [==============================] - 89s 1s/step - loss: 5.2142 - accuracy: 0.0452\n",
      "Epoch 20/100\n",
      "78/78 [==============================] - 90s 1s/step - loss: 5.1516 - accuracy: 0.0485\n",
      "Epoch 21/100\n",
      "78/78 [==============================] - 90s 1s/step - loss: 5.0647 - accuracy: 0.0470\n",
      "Epoch 22/100\n",
      "78/78 [==============================] - 90s 1s/step - loss: 5.0617 - accuracy: 0.0500\n",
      "Epoch 23/100\n",
      "78/78 [==============================] - 89s 1s/step - loss: 4.9570 - accuracy: 0.0560\n",
      "Epoch 24/100\n",
      "78/78 [==============================] - 90s 1s/step - loss: 4.8723 - accuracy: 0.0582\n",
      "Epoch 25/100\n",
      "78/78 [==============================] - 90s 1s/step - loss: 4.7912 - accuracy: 0.0685\n",
      "Epoch 26/100\n",
      "78/78 [==============================] - 90s 1s/step - loss: 4.6863 - accuracy: 0.0765\n",
      "Epoch 27/100\n",
      "78/78 [==============================] - 91s 1s/step - loss: 4.7114 - accuracy: 0.0575\n",
      "Epoch 28/100\n",
      "78/78 [==============================] - 90s 1s/step - loss: 4.6015 - accuracy: 0.0762\n",
      "Epoch 29/100\n",
      "78/78 [==============================] - 90s 1s/step - loss: 4.5650 - accuracy: 0.0684\n",
      "Epoch 30/100\n",
      "78/78 [==============================] - 90s 1s/step - loss: 4.5959 - accuracy: 0.0685\n",
      "Epoch 31/100\n",
      "78/78 [==============================] - 89s 1s/step - loss: 4.5557 - accuracy: 0.0745\n",
      "Epoch 32/100\n",
      "78/78 [==============================] - 90s 1s/step - loss: 4.6640 - accuracy: 0.0595\n",
      "Epoch 33/100\n",
      "78/78 [==============================] - 90s 1s/step - loss: 4.3878 - accuracy: 0.0768\n",
      "Epoch 34/100\n",
      "78/78 [==============================] - 90s 1s/step - loss: 4.2057 - accuracy: 0.1107\n",
      "Epoch 35/100\n",
      "78/78 [==============================] - 89s 1s/step - loss: 4.2145 - accuracy: 0.1076\n",
      "Epoch 36/100\n",
      "78/78 [==============================] - 90s 1s/step - loss: 4.1001 - accuracy: 0.1287\n",
      "Epoch 37/100\n",
      "78/78 [==============================] - 90s 1s/step - loss: 4.0941 - accuracy: 0.1160\n",
      "Epoch 38/100\n",
      "78/78 [==============================] - 89s 1s/step - loss: 4.0273 - accuracy: 0.1354\n",
      "Epoch 39/100\n",
      "78/78 [==============================] - 2147s 28s/step - loss: 3.9288 - accuracy: 0.1402\n",
      "Epoch 40/100\n",
      "78/78 [==============================] - 93s 1s/step - loss: 3.8794 - accuracy: 0.1513\n",
      "Epoch 41/100\n",
      "78/78 [==============================] - 91s 1s/step - loss: 3.8653 - accuracy: 0.1658\n",
      "Epoch 42/100\n",
      "78/78 [==============================] - 93s 1s/step - loss: 3.6950 - accuracy: 0.1791\n",
      "Epoch 43/100\n",
      "78/78 [==============================] - 93s 1s/step - loss: 3.6270 - accuracy: 0.1950\n",
      "Epoch 44/100\n",
      "78/78 [==============================] - 105s 1s/step - loss: 3.5809 - accuracy: 0.2060\n",
      "Epoch 45/100\n",
      "78/78 [==============================] - 94s 1s/step - loss: 3.5210 - accuracy: 0.2378\n",
      "Epoch 46/100\n",
      "78/78 [==============================] - 15603s 203s/step - loss: 3.4362 - accuracy: 0.2347\n",
      "Epoch 47/100\n",
      "78/78 [==============================] - 90s 1s/step - loss: 3.3843 - accuracy: 0.2510\n",
      "Epoch 48/100\n",
      "78/78 [==============================] - 89s 1s/step - loss: 3.3151 - accuracy: 0.2890\n",
      "Epoch 49/100\n",
      "78/78 [==============================] - 89s 1s/step - loss: 3.2432 - accuracy: 0.2995\n",
      "Epoch 50/100\n",
      "78/78 [==============================] - 89s 1s/step - loss: 3.2017 - accuracy: 0.3032\n",
      "Epoch 51/100\n",
      "78/78 [==============================] - 88s 1s/step - loss: 3.1838 - accuracy: 0.3338\n",
      "Epoch 52/100\n",
      "78/78 [==============================] - 88s 1s/step - loss: 3.1243 - accuracy: 0.3256\n",
      "Epoch 53/100\n",
      "78/78 [==============================] - 88s 1s/step - loss: 3.0278 - accuracy: 0.3678\n",
      "Epoch 54/100\n",
      "78/78 [==============================] - 88s 1s/step - loss: 2.9249 - accuracy: 0.3866\n",
      "Epoch 55/100\n",
      "78/78 [==============================] - 87s 1s/step - loss: 2.8471 - accuracy: 0.4073\n",
      "Epoch 56/100\n",
      "78/78 [==============================] - 88s 1s/step - loss: 2.8024 - accuracy: 0.4165\n",
      "Epoch 57/100\n",
      "78/78 [==============================] - 88s 1s/step - loss: 2.6890 - accuracy: 0.4679\n",
      "Epoch 58/100\n",
      "78/78 [==============================] - 88s 1s/step - loss: 2.6169 - accuracy: 0.4794\n",
      "Epoch 59/100\n",
      "78/78 [==============================] - 87s 1s/step - loss: 2.5555 - accuracy: 0.5181\n",
      "Epoch 60/100\n",
      "78/78 [==============================] - 88s 1s/step - loss: 2.4853 - accuracy: 0.5438\n",
      "Epoch 61/100\n",
      "78/78 [==============================] - 88s 1s/step - loss: 2.4083 - accuracy: 0.5702\n",
      "Epoch 62/100\n",
      "78/78 [==============================] - 88s 1s/step - loss: 2.3473 - accuracy: 0.5965\n",
      "Epoch 63/100\n",
      "78/78 [==============================] - 87s 1s/step - loss: 2.2864 - accuracy: 0.6189\n",
      "Epoch 64/100\n",
      "78/78 [==============================] - 88s 1s/step - loss: 2.2200 - accuracy: 0.6236\n",
      "Epoch 65/100\n",
      "78/78 [==============================] - 88s 1s/step - loss: 2.1565 - accuracy: 0.6640\n",
      "Epoch 66/100\n",
      "78/78 [==============================] - 88s 1s/step - loss: 2.0594 - accuracy: 0.6905\n",
      "Epoch 67/100\n",
      "78/78 [==============================] - 88s 1s/step - loss: 2.0366 - accuracy: 0.6958\n",
      "Epoch 68/100\n",
      "78/78 [==============================] - 88s 1s/step - loss: 1.9397 - accuracy: 0.7388\n",
      "Epoch 69/100\n",
      "78/78 [==============================] - 88s 1s/step - loss: 1.9748 - accuracy: 0.7258\n",
      "Epoch 70/100\n",
      "78/78 [==============================] - 87s 1s/step - loss: 1.9151 - accuracy: 0.7409\n",
      "Epoch 71/100\n",
      "78/78 [==============================] - 88s 1s/step - loss: 1.8206 - accuracy: 0.7737\n",
      "Epoch 72/100\n",
      "78/78 [==============================] - 88s 1s/step - loss: 1.7598 - accuracy: 0.7985\n",
      "Epoch 73/100\n",
      "78/78 [==============================] - 88s 1s/step - loss: 1.6924 - accuracy: 0.8138\n",
      "Epoch 74/100\n",
      "78/78 [==============================] - 95s 1s/step - loss: 1.6746 - accuracy: 0.8241\n",
      "Epoch 75/100\n",
      "78/78 [==============================] - 94s 1s/step - loss: 1.6239 - accuracy: 0.8323\n",
      "Epoch 76/100\n",
      "78/78 [==============================] - 88s 1s/step - loss: 1.5912 - accuracy: 0.8297\n",
      "Epoch 77/100\n",
      "78/78 [==============================] - 88s 1s/step - loss: 1.5090 - accuracy: 0.8695\n",
      "Epoch 78/100\n",
      "78/78 [==============================] - 89s 1s/step - loss: 1.4855 - accuracy: 0.8660\n",
      "Epoch 79/100\n",
      "78/78 [==============================] - 88s 1s/step - loss: 1.4310 - accuracy: 0.8824\n",
      "Epoch 80/100\n",
      "78/78 [==============================] - 88s 1s/step - loss: 1.3827 - accuracy: 0.8914\n",
      "Epoch 81/100\n",
      "78/78 [==============================] - 88s 1s/step - loss: 1.3623 - accuracy: 0.8959\n",
      "Epoch 82/100\n"
     ]
    },
    {
     "name": "stdout",
     "output_type": "stream",
     "text": [
      "78/78 [==============================] - 87s 1s/step - loss: 1.3162 - accuracy: 0.9069\n",
      "Epoch 83/100\n",
      "78/78 [==============================] - 88s 1s/step - loss: 1.4113 - accuracy: 0.8644\n",
      "Epoch 84/100\n",
      "78/78 [==============================] - 88s 1s/step - loss: 1.5533 - accuracy: 0.8392\n",
      "Epoch 85/100\n",
      "78/78 [==============================] - 88s 1s/step - loss: 1.3919 - accuracy: 0.8834\n",
      "Epoch 86/100\n",
      "78/78 [==============================] - 87s 1s/step - loss: 1.2254 - accuracy: 0.9251\n",
      "Epoch 87/100\n",
      "78/78 [==============================] - 88s 1s/step - loss: 1.1737 - accuracy: 0.9306\n",
      "Epoch 88/100\n",
      "78/78 [==============================] - 88s 1s/step - loss: 1.1079 - accuracy: 0.9438\n",
      "Epoch 89/100\n",
      "78/78 [==============================] - 88s 1s/step - loss: 1.0582 - accuracy: 0.9593\n",
      "Epoch 90/100\n",
      "78/78 [==============================] - 88s 1s/step - loss: 1.0324 - accuracy: 0.9648\n",
      "Epoch 91/100\n",
      "78/78 [==============================] - 88s 1s/step - loss: 0.9868 - accuracy: 0.9692\n",
      "Epoch 92/100\n",
      "78/78 [==============================] - 88s 1s/step - loss: 0.9706 - accuracy: 0.9642\n",
      "Epoch 93/100\n",
      "78/78 [==============================] - 89s 1s/step - loss: 0.9444 - accuracy: 0.9663\n",
      "Epoch 94/100\n",
      "78/78 [==============================] - 89s 1s/step - loss: 0.9319 - accuracy: 0.9668\n",
      "Epoch 95/100\n",
      "78/78 [==============================] - 88s 1s/step - loss: 0.9136 - accuracy: 0.9662\n",
      "Epoch 96/100\n",
      "78/78 [==============================] - 88s 1s/step - loss: 0.9240 - accuracy: 0.9712\n",
      "Epoch 97/100\n",
      "78/78 [==============================] - 88s 1s/step - loss: 0.9311 - accuracy: 0.9705\n",
      "Epoch 98/100\n",
      "78/78 [==============================] - 89s 1s/step - loss: 0.8825 - accuracy: 0.9731\n",
      "Epoch 99/100\n",
      "78/78 [==============================] - 6672s 87s/step - loss: 0.8379 - accuracy: 0.9796\n",
      "Epoch 100/100\n",
      "78/78 [==============================] - 97s 1s/step - loss: 0.7922 - accuracy: 0.9872\n"
     ]
    }
   ],
   "source": [
    " history = model.fit(predictors, label, epochs=100, verbose=1)"
   ]
  },
  {
   "cell_type": "code",
   "execution_count": 6,
   "id": "changing-interpretation",
   "metadata": {},
   "outputs": [
    {
     "data": {
      "image/png": "[encoded data removed]",
      "text/plain": [
       "<Figure size 432x288 with 1 Axes>"
      ]
     },
     "metadata": {
      "needs_background": "light"
     },
     "output_type": "display_data"
    },
    {
     "data": {
      "image/png": "[encoded data removed]",
      "text/plain": [
       "<Figure size 432x288 with 1 Axes>"
      ]
     },
     "metadata": {
      "needs_background": "light"
     },
     "output_type": "display_data"
    }
   ],
   "source": [
    "import matplotlib.pyplot as plt\n",
    "acc = history.history['accuracy']\n",
    "loss = history.history['loss']\n",
    "\n",
    "epochs = range(len(acc))\n",
    "\n",
    "plt.plot(epochs, acc, 'b', label='Training accuracy')\n",
    "plt.title('Training accuracy')\n",
    "\n",
    "plt.figure()\n",
    "\n",
    "plt.plot(epochs, loss, 'b', label='Training Loss')\n",
    "plt.title('Training loss')\n",
    "plt.legend()\n",
    "\n",
    "plt.show()"
   ]
  },
  {
   "cell_type": "code",
   "execution_count": 7,
   "id": "genuine-stanley",
   "metadata": {},
   "outputs": [
    {
     "name": "stderr",
     "output_type": "stream",
     "text": [
      "/home/yahyaubuntu/anaconda3/lib/python3.7/site-packages/tensorflow/python/keras/engine/sequential.py:450: UserWarning: `model.predict_classes()` is deprecated and will be removed after 2021-01-01. Please use instead:* `np.argmax(model.predict(x), axis=-1)`,   if your model does multi-class classification   (e.g. if it uses a `softmax` last-layer activation).* `(model.predict(x) > 0.5).astype(\"int32\")`,   if your model does binary classification   (e.g. if it uses a `sigmoid` last-layer activation).\n",
      "  warnings.warn('`model.predict_classes()` is deprecated and '\n"
     ]
    },
    {
     "name": "stdout",
     "output_type": "stream",
     "text": [
      "يحيى حزيناً الفتاة نهائيا، خسر لها الذي ستسقط فيه تلك الورقة، ولكنها لم تسقط أبدا، وذهب الخريف وحل الشتاء والورقة متشبثة بغصن الشجرة، وتعافت الفتاة شيئا فشيئا، ولما تماثلت الفتاة للشفاء تماما وأصبحت بكامل عافيتها خرجت لخارج المنزل وتوجهت للشجرة ولمست ورقة الشجرة الأخيرة، فاكتشفت أن الورقة من مادة البلاستيك، وعرفت أن أختها ثبتت هذه الورقة حتى لا تفقد أختها الأمل، الأمل يجدد الروح ويصنع المستحيل وإذا تعلق القلب بالله لن يخيب أبدا أمله ولا رجاه لكي فعلوه بعد غضبت نستمتع أسعد المادي، لقد أحبها لشخصها وليس لما يملكه والدها حيث أنه ليس في حاجة إليه من الأساس المائدة وأم مسلمة للعمل، طويلا وأنه فانفجرت في وجهه وقررا الطلاق وأنهما لن يستطيعا الاستمرار هكذا، واتفقا على أن الزوجة هي التي سوف تتكفل بتربية الولد على أن يرسل لها مبلغ مالي شهرياً أراد مستوى معاملتهم لها يوما وزوجته كان وجهه سويا الولد وأنه فكانوا في بيت أخواله لا يعاملونه معاملة حسنة، فكان لهم أولاد وهم يفضلونهم عليه في كل الأمور، ولكن الولد لا يهمه كل ذلك لأن قلبه متعلق بأبيه فقط ويريد العيش معه، فكان يذهب لأبيه كل يوم ليراه ويجلس معه، ولكن هذا الأب يعامله معاملة قاسية ويبين له أنه لا يريده ويقول له اذهب إلى والدتك، لأنه كرهه مثل أمه\n"
     ]
    }
   ],
   "source": [
    "seed_text = \"يحيى\"\n",
    "next_words = 200\n",
    "  \n",
    "for _ in range(next_words):\n",
    "\ttoken_list = tokenizer.texts_to_sequences([seed_text])[0]\n",
    "\ttoken_list = pad_sequences([token_list], maxlen=max_sequence_len-1, padding='pre')\n",
    "\tpredicted = model.predict_classes(token_list, verbose=0)\n",
    "\toutput_word = \"\"\n",
    "\tfor word, index in tokenizer.word_index.items():\n",
    "\t\tif index == predicted:\n",
    "\t\t\toutput_word = word\n",
    "\t\t\tbreak\n",
    "\tseed_text += \" \" + output_word\n",
    "print(seed_text)"
   ]
  },
  {
   "cell_type": "code",
   "execution_count": null,
   "id": "contemporary-batch",
   "metadata": {},
   "outputs": [],
   "source": []
  }
 ],
 "metadata": {
  "kernelspec": {
   "display_name": "Python 3",
   "language": "python",
   "name": "python3"
  },
  "language_info": {
   "codemirror_mode": {
    "name": "ipython",
    "version": 3
   },
   "file_extension": ".py",
   "mimetype": "text/x-python",
   "name": "python",
   "nbconvert_exporter": "python",
   "pygments_lexer": "ipython3",
   "version": "3.7.10"
  }
 },
 "nbformat": 4,
 "nbformat_minor": 5
}
